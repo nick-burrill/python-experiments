{
 "metadata": {
  "language_info": {
   "codemirror_mode": {
    "name": "ipython",
    "version": 3
   },
   "file_extension": ".py",
   "mimetype": "text/x-python",
   "name": "python",
   "nbconvert_exporter": "python",
   "pygments_lexer": "ipython3",
   "version": "3.9.0-final"
  },
  "orig_nbformat": 2,
  "kernelspec": {
   "name": "python3",
   "display_name": "Python 3.9.0 64-bit",
   "metadata": {
    "interpreter": {
     "hash": "0119e98c97122c83769e8960ff66850731e8390214d7707b95b002b93799e09e"
    }
   }
  }
 },
 "nbformat": 4,
 "nbformat_minor": 2,
 "cells": [
  {
   "source": [
    "Finding factors by using nearest square\n",
    "\n",
    "x*x=x^2\n",
    "\n",
    "x^2 -y = (x + y) * (x - y)\n",
    "\n",
    "x^2 - y^2\n",
    "\n",
    "\n"
   ],
   "cell_type": "markdown",
   "metadata": {}
  },
  {
   "cell_type": "code",
   "execution_count": 2,
   "metadata": {},
   "outputs": [
    {
     "output_type": "stream",
     "name": "stdout",
     "text": [
      "60.0 1.0\nFactors are: 61.0 * 59.0 = 3599.0\n"
     ]
    }
   ],
   "source": [
    "# Finding factors of 3599\n",
    "import math\n",
    "\n",
    "x = math.sqrt(3600) # Round to closest square and square\n",
    "\n",
    "y = math.sqrt(1) # Difference from square and square\n",
    "\n",
    "print(x,y)\n",
    "print(\"Factors are:\",(x+y),\"*\",(x-y), \"=\", (x+y)*(x-y))"
   ]
  },
  {
   "cell_type": "code",
   "execution_count": 40,
   "metadata": {},
   "outputs": [
    {
     "output_type": "stream",
     "name": "stdout",
     "text": [
      "Square root = 59.99166608788257\nSquare root rounded:  60\nResquared/ nearest square: 3600\n"
     ]
    }
   ],
   "source": [
    "# Lets find the nearest square with code\n",
    "\n",
    "test = math.sqrt(3599)\n",
    "test2 = round(test)\n",
    "print(\"Square root =\",test)\n",
    "print(\"Square root rounded: \",test2)\n",
    "print(\"Resquared/ nearest square:\", test2*test2)"
   ]
  },
  {
   "cell_type": "code",
   "execution_count": 46,
   "metadata": {},
   "outputs": [
    {
     "output_type": "stream",
     "name": "stdout",
     "text": [
      "Number is: 8\nNearest square is: 9\nDifference is: 1\nThe factors are: 2.0 4.0\nTrue\n"
     ]
    }
   ],
   "source": [
    "# Lets put it all together\n",
    "\n",
    "num = 8 # Input \n",
    "print (\"Number is:\", num)\n",
    "\n",
    "sqr = round(math.sqrt(num)) # Convert to square\n",
    "sqr = sqr*sqr\n",
    "print(\"Nearest square is:\", sqr)\n",
    "\n",
    "if sqr > num: # Difference finding logic\n",
    "    dif = sqr - num\n",
    "else:\n",
    "    dif = num - sqr\n",
    "\n",
    "print(\"Difference is:\", dif)\n",
    "\n",
    "x = math.sqrt(sqr) # Switch from temp names to formula names\n",
    "y = math.sqrt(dif)\n",
    "\n",
    "print(\"The factors are:\", (x-y), (x+y))\n",
    "\n",
    "if ((x-y)*(x+y) == num):\n",
    "    print(\"True\") # Win\n",
    "else:\n",
    "    print(\"False\")"
   ]
  }
 ]
}