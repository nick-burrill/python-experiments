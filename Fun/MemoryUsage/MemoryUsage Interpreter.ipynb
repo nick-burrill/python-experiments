{
 "cells": [
  {
   "cell_type": "markdown",
   "metadata": {},
   "source": [
    "# Making Results from [MemoryUsage Arduino Library](https://github.com/Locoduino/MemoryUsage) Easily Readable\n",
    "\n",
    "### First we need to clean the data\n",
    "The data is pasted into an input field, and then split into two dictionaries. (Entering an empty input field will use a default string for testing purposes)\n",
    "\n",
    "* `dataDict{}` is for graphing data.\n",
    "* `usageDict{}` is for the calculated sums of each memory block.\n",
    "\n",
    "Both are printed for the user and the graphable data is returned for future use."
   ]
  },
  {
   "cell_type": "code",
   "execution_count": 6,
   "metadata": {},
   "outputs": [],
   "source": [
    "import re\n",
    "\n",
    "def getData():\n",
    "    ramData = input(\"Paste in MemoryUsage output: \")\n",
    "    if ramData == '':\n",
    "        ramData = \"Data start:256 Heap start:1744 Heap end:1744 Stack start:2297 Stack end:2303 Heap size:0\"\n",
    "\n",
    "    words = ramData.split() # Split input string by individual words\n",
    "    dataList = [' '.join(words[i: i + 2]) for i in range(0, len(words), 2)] # Rejoin every other word\n",
    "    \n",
    "    dataDict = {} # Empty dictionary for formatted data\n",
    "    for i in dataList:\n",
    "        dataDict.update({i.split(\":\")[0] : int(i.split(\":\")[1])})\n",
    "\n",
    "    usageDict = {} # Empty dictionary for calculated usages values\n",
    "    usageDict.update({\"Data\" : dataDict.get(\"Data start\")})\n",
    "    usageDict.update({\"BSS\" : dataDict.get(\"Heap end\") - dataDict.get(\"Data start\")})\n",
    "    usageDict.update({\"Heap\" : dataDict.get(\"Heap end\")- dataDict.get(\"Heap start\")})\n",
    "    usageDict.update({\"Free\" : dataDict.get(\"Stack start\")-dataDict.get(\"Heap end\")})\n",
    "    usageDict.update({\"Stack\" : dataDict.get(\"Stack end\") - dataDict.get(\"Stack start\")})\n",
    "    \n",
    "    print(\"Data Dict: \", dataDict)\n",
    "    print(\"Usage Dict\", usageDict)\n",
    "\n",
    "    return(dataDict)"
   ]
  },
  {
   "cell_type": "markdown",
   "metadata": {},
   "source": [
    "### Next we plot the data\n",
    "Here we are using a horizontal bar graph to visualize the RAM usage."
   ]
  },
  {
   "cell_type": "code",
   "execution_count": 7,
   "metadata": {},
   "outputs": [],
   "source": [
    "import matplotlib.pyplot as plt\n",
    "import numpy as np \n",
    "\n",
    "def plotData(DataDict):\n",
    "    label = \"RAM\"\n",
    "    data = DataDict.get(\"Data start\")\n",
    "    bss = DataDict.get(\"Heap start\") - DataDict.get(\"Data start\")\n",
    "    heap = DataDict.get(\"Heap end\") - DataDict.get(\"Heap start\")\n",
    "    free = DataDict.get(\"Stack start\") - DataDict.get(\"Heap end\")\n",
    "    stack = DataDict.get(\"Stack end\") - DataDict.get(\"Stack start\")\n",
    "    width = 0.3\n",
    "\n",
    "    fig, ax = plt.subplots()\n",
    "    ax.set_ylim(0, width)\n",
    "    ax.set_xlim(0, 2303)\n",
    "    ax.barh(label, data, width, label = 'Data')\n",
    "    ax.barh(label, bss, width, left= data, label = 'BSS')\n",
    "    ax.barh(label, heap, width, left= data+bss, label = 'Heap')\n",
    "    ax.barh(label, free, width, left= data+bss+heap, label = 'Free')\n",
    "    ax.barh(label, stack, width, left= data+bss+heap+free, label = 'Stack')\n",
    "    \n",
    "    plt.xticks(range(0,DataDict.get(\"Stack end\"),250))\n",
    "    \n",
    "    ax.set_xlabel(\"Bytes\")\n",
    "    ax.set_title(\"RAM Usage by Category\")\n",
    "    ax.legend()\n",
    "\n",
    "    plt.show()"
   ]
  },
  {
   "cell_type": "markdown",
   "metadata": {},
   "source": [
    "### Now to run it all together...\n",
    "\n",
    "Will this be the key to optomize [Arduino-Nano-Watch](https://github.com/nick-burrill/Arduino-Nano-Watch) to fit inside its 1kb of free memory?"
   ]
  },
  {
   "cell_type": "code",
   "execution_count": 9,
   "metadata": {},
   "outputs": [
    {
     "name": "stdout",
     "output_type": "stream",
     "text": [
      "Data Dict:  {'Data start': 256, 'Heap start': 1744, 'Heap end': 1744, 'Stack start': 2297, 'Stack end': 2303, 'Heap size': 0}\n",
      "Usage Dict {'Data': 256, 'BSS': 1488, 'Heap': 0, 'Free': 553, 'Stack': 6}\n"
     ]
    },
    {
     "data": {
      "image/png": "[encoded data removed]",
      "text/plain": [
       "<Figure size 640x480 with 1 Axes>"
      ]
     },
     "metadata": {},
     "output_type": "display_data"
    }
   ],
   "source": [
    "plotData(getData())"
   ]
  }
 ],
 "metadata": {
  "kernelspec": {
   "display_name": "Python 3.10.7 64-bit",
   "language": "python",
   "name": "python3"
  },
  "language_info": {
   "codemirror_mode": {
    "name": "ipython",
    "version": 3
   },
   "file_extension": ".py",
   "mimetype": "text/x-python",
   "name": "python",
   "nbconvert_exporter": "python",
   "pygments_lexer": "ipython3",
   "version": "3.10.7"
  },
  "orig_nbformat": 4,
  "vscode": {
   "interpreter": {
    "hash": "069f89412d5805a273ee44427d49169f8b0efa10bc557cee992d25ae8903cd14"
   }
  }
 },
 "nbformat": 4,
 "nbformat_minor": 2
}
