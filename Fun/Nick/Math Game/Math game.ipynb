{
 "metadata": {
  "language_info": {
   "codemirror_mode": {
    "name": "ipython",
    "version": 3
   },
   "file_extension": ".py",
   "mimetype": "text/x-python",
   "name": "python",
   "nbconvert_exporter": "python",
   "pygments_lexer": "ipython3",
   "version": "3.9.0-final"
  },
  "orig_nbformat": 2,
  "kernelspec": {
   "name": "python3",
   "display_name": "Python 3.9.0 64-bit",
   "metadata": {
    "interpreter": {
     "hash": "0119e98c97122c83769e8960ff66850731e8390214d7707b95b002b93799e09e"
    }
   }
  }
 },
 "nbformat": 4,
 "nbformat_minor": 2,
 "cells": [
  {
   "source": [
    "# Lets make a math game!!\n",
    "***\n",
    "A simple math game only has a few parts\n",
    "- 4 differnt question types (+ - ÷ ×)\n",
    "- Generate two numbers (imperial fractions & decimals for this project)\n",
    "- A timer to add difficulty "
   ],
   "cell_type": "markdown",
   "metadata": {}
  },
  {
   "cell_type": "code",
   "execution_count": 1,
   "metadata": {},
   "outputs": [
    {
     "output_type": "stream",
     "name": "stdout",
     "text": [
      "0 1 Divide!\n1 0 Multiply!\n2 0 Multiply!\n3 3 Subtract!\n4 0 Multiply!\n5 3 Subtract!\n6 2 Add!\n7 0 Multiply!\n8 0 Multiply!\n9 2 Add!\n10 3 Subtract!\n"
     ]
    }
   ],
   "source": [
    "import random\n",
    "x = 0\n",
    "while(x <= 10):\n",
    "    test = random.randint(0,3)\n",
    "    print(x, test, end=\" \")\n",
    "    x = x + 1\n",
    "    if(test == 0):\n",
    "        print(\"Multiply!\")\n",
    "    elif(test == 1):\n",
    "        print(\"Divide!\")\n",
    "    elif(test == 2):\n",
    "        print(\"Add!\")\n",
    "    elif(test == 3):\n",
    "        print(\"Subtract!\")\n"
   ]
  },
  {
   "cell_type": "code",
   "execution_count": 210,
   "metadata": {},
   "outputs": [
    {
     "output_type": "stream",
     "name": "stdout",
     "text": [
      "1 × 5 = ?\n",
      "5 is correct!\n"
     ]
    }
   ],
   "source": [
    "# Lets form a question\n",
    "import random # Used for random integers \n",
    "x = random.randint(0,10) # Lower limit of 0, upper limit of 10\n",
    "y = random.randint(0,10) # Ditto ^\n",
    "mode = random.randint(0,3) # Creating an index to select our opperation\n",
    "prompt = -11 # A theoretically impossible number to achieve  \n",
    "\n",
    "if(mode == 0):\n",
    "    print(x, \"×\", y, \"= ?\")\n",
    "    ans = x*y\n",
    "elif(mode == 1):\n",
    "    print(x, \"÷\", y, \"= ?\")\n",
    "    ans = x/y\n",
    "elif(mode == 2):\n",
    "    print(x, \"+\", y, \"= ?\")\n",
    "    ans = x+y\n",
    "elif(mode == 3):\n",
    "    print(x, \"-\", y, \"= ?\")\n",
    "    ans = x-y\n",
    "\n",
    "while(prompt != ans):\n",
    "    prompt = int(input())\n",
    "\n",
    "print(ans, \"is correct!\")"
   ]
  },
  {
   "cell_type": "code",
   "execution_count": 213,
   "metadata": {},
   "outputs": [
    {
     "output_type": "stream",
     "name": "stdout",
     "text": [
      "0 : 2 / 4 : 0.5\n1 : 4 / 16 : 0.25\n2 : 2 / 16 : 0.125\n3 : 1 / 4 : 0.25\n4 : 10 / 16 : 0.625\n5 : 1 / 2 : 0.5\n6 : 4 / 16 : 0.25\n7 : 12 / 16 : 0.75\n8 : 1 / 2 : 0.5\n9 : 1 / 2 : 0.5\n"
     ]
    },
    {
     "output_type": "execute_result",
     "data": {
      "text/plain": [
       "Counter({0.5: 4, 0.25: 3, 0.125: 1, 0.625: 1, 0.75: 1})"
      ]
     },
     "metadata": {},
     "execution_count": 213
    }
   ],
   "source": [
    "# Lets make some fractional numbers into decimal to practice imperial\n",
    "# 1/2 1/4 1/8 1/16\n",
    "import random\n",
    "from collections import Counter # Used to count the number of each instance we get\n",
    "\n",
    "list = []\n",
    "\n",
    "x = 0\n",
    "while (x < 10):\n",
    "    denominator = 2**random.randint(1,4) # 1 = halfs, 2 = quarters, 3 = eighths, 4 = sixteenths \n",
    "    numerator = random.randint(1,denominator)\n",
    "\n",
    "    print(x,\":\", numerator,\"/\", denominator,\":\", numerator/denominator)\n",
    "    list.append(numerator/denominator)\n",
    "    x = x + 1\n",
    "\n",
    "Counter(list) # Quick check of \"randomness\"\n",
    "\n"
   ]
  },
  {
   "source": [
    "# Well.... That kinda works like shit...\n",
    "***\n",
    "This method works okay but it has a few problems. The main one is that its possible to get the same value from differnt denominators meaning it isnt very random. Fractions like 1/2 are going to be more common because they can be made in several ways: 1/2, 2/4, 4/8, 8/16\n",
    "\n",
    "Actually... it is a 50% chance each fraction could be equivlant to a lower fraction\n",
    "- ex: 50% chance x/16 = y/8, 50% chance x/8 = y/4, 50% chance x/4 = y/2\n",
    "\n",
    "To solve?\n",
    "- You could only generate 1/16 fractions\n",
    "- Ideally you can avoid these common denominators, possibly bump the value ±1 denomintor?"
   ],
   "cell_type": "markdown",
   "metadata": {}
  },
  {
   "cell_type": "code",
   "execution_count": 224,
   "metadata": {},
   "outputs": [
    {
     "output_type": "stream",
     "name": "stdout",
     "text": [
      "0 : 10.0 / 16 : 0.625\n1 : 2.0 / 16 : 0.125\n2 : 10.0 / 16 : 0.625\n3 : 15.0 / 16 : 0.9375\n4 : 7.0 / 16 : 0.4375\n5 : 7.0 / 16 : 0.4375\n6 : 2.0 / 16 : 0.125\n7 : 9.0 / 16 : 0.5625\n8 : 13.0 / 16 : 0.8125\n9 : 7.0 / 16 : 0.4375\n"
     ]
    },
    {
     "output_type": "execute_result",
     "data": {
      "text/plain": [
       "Counter({0.625: 2, 0.125: 2, 0.9375: 1, 0.4375: 3, 0.5625: 1, 0.8125: 1})"
      ]
     },
     "metadata": {},
     "execution_count": 224
    }
   ],
   "source": [
    "# Second method - a little too random.. ¯\\_(ツ)_/¯\n",
    "import random\n",
    "from collections import Counter\n",
    "\n",
    "list = []\n",
    "x = 0\n",
    "\n",
    "while(x < 10):\n",
    "    number = 0.0625 * random.randint(1,15)\n",
    "    print(x, \":\", number / 0.0625,\"/\",16,\":\",number)\n",
    "    list.append(number)\n",
    "    x = x + 1\n",
    "\n",
    "Counter(list)"
   ]
  },
  {
   "source": [
    "# But wait.. There are more patterns we can use :3\n",
    "***\n",
    "Lowest denometer fractions can be identified by the number of decimals!\n",
    "- x/2  = 1 decimal place\n",
    "- x/4  = 2 decimal place\n",
    "- x/8  = 3 decimal place\n",
    "- x/16 = 4 decimal place\n",
    "\n",
    "Intersting.....\n"
   ],
   "cell_type": "markdown",
   "metadata": {}
  },
  {
   "cell_type": "code",
   "execution_count": 227,
   "metadata": {},
   "outputs": [
    {
     "output_type": "stream",
     "name": "stdout",
     "text": [
      "0 : 1 / 2 : 0.5\n1 : 2 / 2 : 1.0\n2 : 3 / 8 : 0.375\n3 : 4 / 8 : 0.5\n4 : 2 / 8 : 0.25\n5 : 6 / 16 : 0.375\n6 : 1 / 4 : 0.25\n7 : 4 / 4 : 1.0\n8 : 1 / 2 : 0.5\n9 : 2 / 2 : 1.0\n"
     ]
    },
    {
     "output_type": "execute_result",
     "data": {
      "text/plain": [
       "Counter({0.5: 3, 1.0: 3, 0.375: 2, 0.25: 2})"
      ]
     },
     "metadata": {},
     "execution_count": 227
    }
   ],
   "source": [
    "# Third method\n",
    "import random \n",
    "from collections import Counter \n",
    "\n",
    "list = []\n",
    "x = 0\n",
    "\n",
    "while (x < 10):\n",
    "    denominator = 2**random.randint(1,4) # 1 = halfs, 2 = quarters, 3 = eighths, 4 = sixteenths \n",
    "    numerator = random.randint(1,denominator)\n",
    "\n",
    "    print(x,\":\", numerator,\"/\", denominator,\":\", numerator/denominator)\n",
    "    list.append(numerator/denominator)\n",
    "    x = x + 1\n",
    "\n",
    "Counter(list)"
   ]
  }
 ]
}