{
    "cells": [
        {
            "cell_type": "code",
            "execution_count": 3,
            "source": [
                "class Dot:\r\n",
                "    def __init__(self, type):\r\n",
                "        self.type = type\r\n",
                "\r\n",
                "testDot = Dot(\"water\")\r\n",
                "\r\n",
                "print(testDot.type)"
            ],
            "outputs": [
                {
                    "output_type": "stream",
                    "name": "stdout",
                    "text": [
                        "water\n"
                    ]
                }
            ],
            "metadata": {}
        },
        {
            "cell_type": "code",
            "execution_count": 4,
            "source": [
                "dotMap = {\"air\":\"black\",\r\n",
                "\"water\":\"blue\"}\r\n",
                "\r\n",
                "print(dotMap.get(testDot.type))"
            ],
            "outputs": [
                {
                    "output_type": "stream",
                    "name": "stdout",
                    "text": [
                        "blue\n"
                    ]
                }
            ],
            "metadata": {}
        },
        {
            "cell_type": "code",
            "execution_count": 18,
            "source": [
                "def DrawDots(surface, map, table):\r\n",
                "    x = 0\r\n",
                "    y = 0\r\n",
                "    for i in map.array:\r\n",
                "        y = y + 1\r\n",
                "        x = 0\r\n",
                "        for j in i:\r\n",
                "            x = x + 1\r\n",
                "            color = table.get(j.type)\r\n",
                "\r\n",
                "            print((x,y), color)\r\n",
                "\r\n",
                "    \r\n",
                "    # for i, item in enumerate(map.array):\r\n",
                "    #     print (i)\r\n",
                "    #     for j in range(len(item)):\r\n",
                "    #         print(j)\r\n",
                "    #         color = table.get(j.type)\r\n",
                "\r\n",
                "class DotMap:\r\n",
                "    def __init__(self, width, height):\r\n",
                "        self.width = width\r\n",
                "        self.height = height\r\n",
                "        self.array = [[0] * width] * height\r\n",
                "\r\n",
                "        for row in range(self.height):\r\n",
                "            for col in range(self.width):\r\n",
                "                # print((row, col))\r\n",
                "                self.array[row][col] = Dot(\"air\")\r\n",
                "\r\n",
                "    def add(self, pos, type):\r\n",
                "        self.array[pos] = Dot(type)\r\n",
                "\r\n",
                "test = DotMap(3,5)\r\n",
                "\r\n",
                "DrawDots(1, test, dotMap)\r\n",
                "# for i in test.array:\r\n",
                "#     print(i)\r\n",
                "#     for j in i:\r\n",
                "#         print(j.type, dotMap.get(j.type))"
            ],
            "outputs": [
                {
                    "output_type": "stream",
                    "name": "stdout",
                    "text": [
                        "(1, 1) black\n",
                        "(2, 1) black\n",
                        "(3, 1) black\n",
                        "(1, 2) black\n",
                        "(2, 2) black\n",
                        "(3, 2) black\n",
                        "(1, 3) black\n",
                        "(2, 3) black\n",
                        "(3, 3) black\n",
                        "(1, 4) black\n",
                        "(2, 4) black\n",
                        "(3, 4) black\n",
                        "(1, 5) black\n",
                        "(2, 5) black\n",
                        "(3, 5) black\n"
                    ]
                }
            ],
            "metadata": {}
        }
    ],
    "metadata": {
        "orig_nbformat": 4,
        "language_info": {
            "name": "python"
        }
    },
    "nbformat": 4,
    "nbformat_minor": 2
}