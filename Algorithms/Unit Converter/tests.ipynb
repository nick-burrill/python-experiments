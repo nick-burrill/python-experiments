{
 "metadata": {
  "language_info": {
   "codemirror_mode": {
    "name": "ipython",
    "version": 3
   },
   "file_extension": ".py",
   "mimetype": "text/x-python",
   "name": "python",
   "nbconvert_exporter": "python",
   "pygments_lexer": "ipython3",
   "version": "3.8.1-final"
  },
  "orig_nbformat": 2,
  "kernelspec": {
   "name": "python3",
   "display_name": "Python 3.8.1 32-bit",
   "metadata": {
    "interpreter": {
     "hash": "6fa8c4a0213b3e8e46e64ca221d4ef2f7254b1e53b83d6209b624a99d7aa7db4"
    }
   }
  }
 },
 "nbformat": 4,
 "nbformat_minor": 2,
 "cells": [
  {
   "source": [
    "# TODO: #\n",
    "---\n",
    "\n",
    "Ask for ratio. (eg: \"2.5m / sec)\n",
    "\n",
    "Detatch rates from variables. If no rate then rate = 1 (eg: \"2.5m / sec\" = {\"m\" : 2.5, \"sec\" : 1})\n",
    "\n",
    "Ask for new format. (eg: km / hr)\n",
    "\n",
    "Ask for conversion rates. (eg: how many m / km?, how many sec / hr?)\n",
    "\n",
    "Store them. (eg: {\"m/km\" : 1000, \"sec/hr\" : 3600})\n",
    "\n",
    "Use them. (eg. m * m/km = km, sec * sec/hr = hr)\n",
    "\n",
    "Divide (km / hr = ans)"
   ],
   "cell_type": "markdown",
   "metadata": {}
  },
  {
   "cell_type": "code",
   "execution_count": 2,
   "metadata": {},
   "outputs": [
    {
     "output_type": "stream",
     "name": "stdout",
     "text": [
      "C is alpha\no is alpha\nw is alpha\ns is alpha\n  is nothing bro\n1 is numeric\n1 is decimal\n1 is digit\n1 is nothing bro\n. is nothing bro\n5 is numeric\n5 is decimal\n5 is digit\n5 is nothing bro\n0 is numeric\n0 is decimal\n0 is digit\n0 is nothing bro\n0 is numeric\n0 is decimal\n0 is digit\n0 is nothing bro\n1 is numeric\n1 is decimal\n1 is digit\n1 is nothing bro\n2 is numeric\n2 is decimal\n2 is digit\n2 is nothing bro\n"
     ]
    }
   ],
   "source": [
    "string = \"Cows 1.50012\"\n",
    "\n",
    "for i in string:\n",
    "    if i.isnumeric():\n",
    "        print(i, \"is numeric\")\n",
    "    if i.isdecimal():\n",
    "        print(i, \"is decimal\")\n",
    "    if i.isdigit():\n",
    "        print(i, \"is digit\")\n",
    "    if i.isalpha():\n",
    "        print(i, \"is alpha\")\n",
    "    else:\n",
    "        print(i, \"is nothing bro\")\n"
   ]
  },
  {
   "cell_type": "code",
   "execution_count": 4,
   "metadata": {},
   "outputs": [
    {
     "output_type": "stream",
     "name": "stdout",
     "text": [
      "False\n"
     ]
    }
   ],
   "source": [
    "s = \"10.0\"\n",
    "\n",
    "print(s.isdecimal())"
   ]
  },
  {
   "cell_type": "code",
   "execution_count": 6,
   "metadata": {},
   "outputs": [
    {
     "output_type": "error",
     "ename": "TypeError",
     "evalue": "unsupported operand type(s) for -: 'str' and 'str'",
     "traceback": [
      "\u001b[1;31m---------------------------------------------------------------------------\u001b[0m",
      "\u001b[1;31mTypeError\u001b[0m                                 Traceback (most recent call last)",
      "\u001b[1;32m<ipython-input-6-79b6de09fc1d>\u001b[0m in \u001b[0;36m<module>\u001b[1;34m\u001b[0m\n\u001b[0;32m      1\u001b[0m \u001b[0ms\u001b[0m \u001b[1;33m=\u001b[0m \u001b[1;34m\"2.5 m\"\u001b[0m\u001b[1;33m\u001b[0m\u001b[1;33m\u001b[0m\u001b[0m\n\u001b[0;32m      2\u001b[0m \u001b[1;33m\u001b[0m\u001b[0m\n\u001b[1;32m----> 3\u001b[1;33m \u001b[0mprint\u001b[0m\u001b[1;33m(\u001b[0m\u001b[0ms\u001b[0m \u001b[1;33m-\u001b[0m \u001b[1;34m\"m\"\u001b[0m\u001b[1;33m)\u001b[0m\u001b[1;33m\u001b[0m\u001b[1;33m\u001b[0m\u001b[0m\n\u001b[0m",
      "\u001b[1;31mTypeError\u001b[0m: unsupported operand type(s) for -: 'str' and 'str'"
     ]
    }
   ],
   "source": [
    "s = \"2.5 m\"\n",
    "\n",
    "print(s - \"m\")"
   ]
  },
  {
   "cell_type": "code",
   "execution_count": null,
   "metadata": {},
   "outputs": [],
   "source": [
    "string = \"2.5 m / sec\"\n",
    "\n"
   ]
  }
 ]
}