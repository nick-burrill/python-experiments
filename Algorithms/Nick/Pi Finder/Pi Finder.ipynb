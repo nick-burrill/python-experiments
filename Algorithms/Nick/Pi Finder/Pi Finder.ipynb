{
 "metadata": {
  "language_info": {
   "codemirror_mode": {
    "name": "ipython",
    "version": 3
   },
   "file_extension": ".py",
   "mimetype": "text/x-python",
   "name": "python",
   "nbconvert_exporter": "python",
   "pygments_lexer": "ipython3",
   "version": "3.9.0-final"
  },
  "orig_nbformat": 2,
  "kernelspec": {
   "name": "python3",
   "display_name": "Python 3.9.0 64-bit",
   "metadata": {
    "interpreter": {
     "hash": "0119e98c97122c83769e8960ff66850731e8390214d7707b95b002b93799e09e"
    }
   }
  }
 },
 "nbformat": 4,
 "nbformat_minor": 2,
 "cells": [
  {
   "source": [
    "# Can you calculate Pi with only a random function?\n",
    "***\n",
    "Yes all you need is someone elses idea. Here is my proccess:\n",
    "* Generate random x,y cordinates between 0 and 1\n",
    "* Check the distance of the points from orgin\n",
    "* If the points are further than 1 unit from the orgin, they are outside the circle\n",
    "* The ratio of points inside v.s. outside our 1/4 circle can be used to calculate the aproximate area inside the 1/4 of the circle... or 1/4 of Pi since our circles radius is 1 \n",
    "* Our equation is: Pi = points inside / total points * 4"
   ],
   "cell_type": "markdown",
   "metadata": {}
  },
  {
   "source": [
    "# First lets start by generating \"samples\" of cordinate pairs\n",
    "\n",
    "import random # Duh\n",
    "\n",
    "sampleCount = 0 # Used for our while loop\n",
    "samples = [] # My list of samples (starting empty)\n",
    "\n",
    "def Sample(x,y): # This is defining my own variable type. Notice how it stores both x and y varibles inside one \"Sample\"\n",
    "    return(x,y)  # It also returns both vairbles but alows them to be stored as one instance of \"Sample\"\n",
    "\n",
    "\n",
    "while(sampleCount < 10): \n",
    "    rx = random.random() # Random number between 0 and 1\n",
    "    ry = random.random()\n",
    "    pair = Sample(rx,ry) # Making the pair into a Sample varible \n",
    "    samples.append(pair) # Adding the pair to the end of my list \"samples\"\n",
    "    sampleCount = sampleCount + 1 # Incrememting the while loop\n",
    "print(\"samples are: \", samples) \n"
   ],
   "cell_type": "code",
   "metadata": {},
   "execution_count": 7,
   "outputs": [
    {
     "output_type": "stream",
     "name": "stdout",
     "text": [
      "[(0.37623036992043424, 0.04649090243183007), (0.619083811054088, 0.4708867896424732), (0.17018989805121587, 0.6973047044742565), (0.30823465335166345, 0.5931946479793477), (0.1700899484238092, 0.6061633379652055), (0.4842750582360087, 0.5986142952798308), (0.21780071649543975, 0.7889586063117108), (0.6580889970710496, 0.9479048598586399), (0.5471252225491382, 0.8673151400024072), (0.046115222948903356, 0.961439752007378)]\n"
     ]
    }
   ]
  },
  {
   "cell_type": "code",
   "execution_count": 62,
   "metadata": {
    "tags": []
   },
   "outputs": [
    {
     "output_type": "stream",
     "name": "stdout",
     "text": [
      "78.5659 % of points are inside\nthis might say pi: 3.142636\n"
     ]
    }
   ],
   "source": [
    "import random \n",
    "import math # Sqrt function for distance\n",
    "\n",
    "sampleTotal = 1000000 # This is how many samples it will take, this directally increases accuracy\n",
    "insideSamples = 0 # This is set to zero, this is how we keep track of samples inside the radius\n",
    "sampleCount = 0 # This is set to zero for our while loop\n",
    "samples = [] # This list is not displayed to the user unless they want to see it for testing purposes\n",
    "\n",
    "def sampleDistance(x,y): # This is our own function to find the distance for a given cordinate pair, to the orgin (0,0)\n",
    "    return(math.sqrt((x - 0)**2 + (y - 0)**2)) # I left the zeros in the equation so it makes more sense \n",
    "\n",
    "\n",
    "while(sampleCount < sampleTotal): \n",
    "    rx = random.random()\n",
    "    ry = random.random()\n",
    "    dist = sampleDistance(rx,ry) # Check our distance from orgin\n",
    "    if(dist <= 1): # If our distance is <= our radius that point inside our 1/4 circle\n",
    "        insideSamples = insideSamples + 1 # Add one to the ammount of points inside the circle\n",
    "    samples.append(dist) # This time our list holds every distance value\n",
    "    sampleCount = sampleCount + 1 # Increment for the while statement\n",
    "\n",
    "#print(\"samples distance is: \", samples) # Uncomment to see the distance list. Can be long...\n",
    "pi = insideSamples/sampleTotal*4 # This is our equation for Pi\n",
    "print(insideSamples/sampleTotal*100 , \"% of points are inside\") \n",
    "print(\"this might say pi:\", pi) # If everything works, this should print something pretty close to pi"
   ]
  }
 ]
}